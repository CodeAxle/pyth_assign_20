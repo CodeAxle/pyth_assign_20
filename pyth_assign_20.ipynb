{
 "cells": [
  {
   "cell_type": "markdown",
   "id": "afe306d1",
   "metadata": {},
   "source": [
    "# 1."
   ]
  },
  {
   "cell_type": "code",
   "execution_count": 1,
   "id": "ff421842",
   "metadata": {},
   "outputs": [],
   "source": [
    "# code:\n",
    "# Define the string\n",
    "test1 = 'This is a test of the emergency text system.'\n",
    "\n",
    "# Specify the file path\n",
    "file_path = 'test.txt'\n",
    "\n",
    "# Open the file in write mode and save the string to it\n",
    "with open(file_path, 'w') as file:\n",
    "    file.write(test1)"
   ]
  },
  {
   "cell_type": "markdown",
   "id": "69f58c1d",
   "metadata": {},
   "source": [
    "# 2."
   ]
  },
  {
   "cell_type": "code",
   "execution_count": 2,
   "id": "36180e21",
   "metadata": {},
   "outputs": [
    {
     "name": "stdout",
     "output_type": "stream",
     "text": [
      "test1 and test2 are the same.\n"
     ]
    }
   ],
   "source": [
    "#code:\n",
    "# Specify the file path\n",
    "file_path = 'test.txt'\n",
    "\n",
    "# Read the contents of the file into test2\n",
    "with open(file_path, 'r') as file:\n",
    "    test2 = file.read()\n",
    "\n",
    "# Compare test1 and test2\n",
    "if test1 == test2:\n",
    "    print(\"test1 and test2 are the same.\")\n",
    "else:\n",
    "    print(\"test1 and test2 are different.\")"
   ]
  },
  {
   "cell_type": "markdown",
   "id": "9298bdb5",
   "metadata": {},
   "source": [
    "# 3."
   ]
  },
  {
   "cell_type": "code",
   "execution_count": 3,
   "id": "6c76b973",
   "metadata": {},
   "outputs": [
    {
     "name": "stdout",
     "output_type": "stream",
     "text": [
      "CSV file 'books.csv' has been created successfully.\n"
     ]
    }
   ],
   "source": [
    "# code:\n",
    "import csv\n",
    "\n",
    "# Define the data\n",
    "data = [\n",
    "    [\"title\", \"author\", \"year\"],\n",
    "    [\"The Weirdstone of Brisingamen\", \"Alan Garner\", 1960],\n",
    "    [\"Perdido Street Station\", \"China Miéville\", 2000],\n",
    "    [\"Thud!\", \"Terry Pratchett\", 2005],\n",
    "    [\"The Spellman Files\", \"Lisa Lutz\", 2007],\n",
    "    [\"Small Gods\", \"Terry Pratchett\", 1992]\n",
    "]\n",
    "\n",
    "# Define the file path\n",
    "file_path = 'books.csv'\n",
    "\n",
    "# Write the data to the CSV file\n",
    "with open(file_path, 'w', newline='') as file:\n",
    "    writer = csv.writer(file)\n",
    "    writer.writerows(data)\n",
    "\n",
    "print(f\"CSV file '{file_path}' has been created successfully.\")"
   ]
  },
  {
   "cell_type": "markdown",
   "id": "517e1370",
   "metadata": {},
   "source": [
    "# 4."
   ]
  },
  {
   "cell_type": "code",
   "execution_count": 4,
   "id": "b8a20eb9",
   "metadata": {},
   "outputs": [
    {
     "name": "stdout",
     "output_type": "stream",
     "text": [
      "Database 'books.db' and table 'books' created successfully.\n"
     ]
    }
   ],
   "source": [
    "# code:\n",
    "import sqlite3\n",
    "\n",
    "# Connect to the SQLite database (or create it if it doesn't exist)\n",
    "conn = sqlite3.connect('books.db')\n",
    "\n",
    "# Create a cursor object to execute SQL commands\n",
    "cursor = conn.cursor()\n",
    "\n",
    "# Create a table named 'books' with fields: title (text), author (text), and year (integer)\n",
    "cursor.execute('''CREATE TABLE IF NOT EXISTS books (\n",
    "                    title TEXT,\n",
    "                    author TEXT,\n",
    "                    year INTEGER\n",
    "                )''')\n",
    "\n",
    "# Commit changes and close the connection\n",
    "conn.commit()\n",
    "conn.close()\n",
    "\n",
    "print(\"Database 'books.db' and table 'books' created successfully.\")"
   ]
  },
  {
   "cell_type": "markdown",
   "id": "ec36dcfb",
   "metadata": {},
   "source": [
    "# 5."
   ]
  },
  {
   "cell_type": "code",
   "execution_count": 5,
   "id": "523b8273",
   "metadata": {},
   "outputs": [
    {
     "name": "stdout",
     "output_type": "stream",
     "text": [
      "Data inserted into the 'books' table successfully.\n"
     ]
    }
   ],
   "source": [
    "# code:\n",
    "import csv\n",
    "import sqlite3\n",
    "\n",
    "# Connect to the SQLite database (or create it if it doesn't exist)\n",
    "conn = sqlite3.connect('books.db')\n",
    "\n",
    "# Create a cursor object to execute SQL commands\n",
    "cursor = conn.cursor()\n",
    "\n",
    "# Read data from books.csv and insert into the books table\n",
    "with open('books.csv', 'r', newline='') as csvfile:\n",
    "    csvreader = csv.reader(csvfile)\n",
    "    next(csvreader)  # Skip the header row\n",
    "\n",
    "    for row in csvreader:\n",
    "        # Extract data from the CSV row\n",
    "        title, author, year = row\n",
    "\n",
    "        # Insert data into the books table\n",
    "        cursor.execute('INSERT INTO books (title, author, year) VALUES (?, ?, ?)', (title, author, int(year)))\n",
    "\n",
    "# Commit changes and close the connection\n",
    "conn.commit()\n",
    "conn.close()\n",
    "\n",
    "print(\"Data inserted into the 'books' table successfully.\")"
   ]
  },
  {
   "cell_type": "markdown",
   "id": "22a144d4",
   "metadata": {},
   "source": [
    "# 6."
   ]
  },
  {
   "cell_type": "code",
   "execution_count": 6,
   "id": "7f13f22a",
   "metadata": {},
   "outputs": [
    {
     "name": "stdout",
     "output_type": "stream",
     "text": [
      "Perdido Street Station\n",
      "Small Gods\n",
      "The Spellman Files\n",
      "The Weirdstone of Brisingamen\n",
      "Thud!\n"
     ]
    }
   ],
   "source": [
    "# code:\n",
    "import sqlite3\n",
    "\n",
    "# Connect to the SQLite database\n",
    "conn = sqlite3.connect('books.db')\n",
    "cursor = conn.cursor()\n",
    "\n",
    "# Execute the SQL query to select the title column and order it alphabetically\n",
    "cursor.execute('SELECT title FROM books ORDER BY title')\n",
    "\n",
    "# Fetch all the rows and print the titles\n",
    "rows = cursor.fetchall()\n",
    "for row in rows:\n",
    "    print(row[0])  # The title is in the first column (index 0)\n",
    "\n",
    "# Close the connection\n",
    "conn.close()"
   ]
  },
  {
   "cell_type": "markdown",
   "id": "b1e87d9c",
   "metadata": {},
   "source": [
    "# 7."
   ]
  },
  {
   "cell_type": "code",
   "execution_count": 7,
   "id": "ba43dc8f",
   "metadata": {},
   "outputs": [
    {
     "name": "stdout",
     "output_type": "stream",
     "text": [
      "('The Weirdstone of Brisingamen', 'Alan Garner', 1960)\n",
      "('Small Gods', 'Terry Pratchett', 1992)\n",
      "('Perdido Street Station', 'China Miéville', 2000)\n",
      "('Thud!', 'Terry Pratchett', 2005)\n",
      "('The Spellman Files', 'Lisa Lutz', 2007)\n"
     ]
    }
   ],
   "source": [
    "# code:\n",
    "import sqlite3\n",
    "\n",
    "# Connect to the SQLite database\n",
    "conn = sqlite3.connect('books.db')\n",
    "cursor = conn.cursor()\n",
    "\n",
    "# Execute the SQL query to select all columns and order by year\n",
    "cursor.execute('SELECT * FROM books ORDER BY year')\n",
    "\n",
    "# Fetch all the rows and print them\n",
    "rows = cursor.fetchall()\n",
    "for row in rows:\n",
    "    print(row)\n",
    "\n",
    "# Close the connection\n",
    "conn.close()"
   ]
  },
  {
   "cell_type": "markdown",
   "id": "617daf05",
   "metadata": {},
   "source": [
    "# 8."
   ]
  },
  {
   "cell_type": "code",
   "execution_count": 9,
   "id": "a0c9c5f4",
   "metadata": {},
   "outputs": [],
   "source": [
    "#code:\n",
    "\n",
    "# pip install sqlalchemy\n",
    "from sqlalchemy import create_engine\n",
    "\n",
    "# Create an engine to connect to the SQLite database\n",
    "engine = create_engine('sqlite:///books.db')\n",
    "\n",
    "# Connect to the database\n",
    "conn = engine.connect()\n",
    "\n",
    "# Now conn represents the connection to the database"
   ]
  },
  {
   "cell_type": "markdown",
   "id": "7306bcd8",
   "metadata": {},
   "source": [
    "# 9."
   ]
  },
  {
   "cell_type": "code",
   "execution_count": null,
   "id": "1a69daa7",
   "metadata": {},
   "outputs": [],
   "source": [
    "# code:\n",
    "\n",
    "# pip install redis\n",
    "import redis\n",
    "\n",
    "# Connect to Redis\n",
    "r = redis.StrictRedis(host=127.0.0.1, port=8080, db=0)\n",
    "\n",
    "# Create a Redis hash 'test' with fields count and name\n",
    "r.hset('test', 'count', 1)\n",
    "r.hset('test', 'name', 'Fester Bestertester')\n",
    "\n",
    "# Print all fields of the 'test' hash\n",
    "all_fields = r.hgetall('test')\n",
    "print(all_fields)"
   ]
  },
  {
   "cell_type": "markdown",
   "id": "cb2df003",
   "metadata": {},
   "source": [
    "# 10."
   ]
  },
  {
   "cell_type": "code",
   "execution_count": null,
   "id": "48ed6e7a",
   "metadata": {},
   "outputs": [],
   "source": [
    "# code:\n",
    "import redis\n",
    "\n",
    "# Connect to Redis\n",
    "r = redis.StrictRedis(host='localhost', port=5500, db=0)\n",
    "\n",
    "# Increment the 'count' field of the 'test' hash\n",
    "r.hincrby('test', 'count', 1)\n",
    "\n",
    "# Get and print the updated value of the 'count' field\n",
    "updated_count = r.hget('test', 'count')\n",
    "print(f\"Updated count: {updated_count}\")"
   ]
  }
 ],
 "metadata": {
  "kernelspec": {
   "display_name": "Python 3 (ipykernel)",
   "language": "python",
   "name": "python3"
  },
  "language_info": {
   "codemirror_mode": {
    "name": "ipython",
    "version": 3
   },
   "file_extension": ".py",
   "mimetype": "text/x-python",
   "name": "python",
   "nbconvert_exporter": "python",
   "pygments_lexer": "ipython3",
   "version": "3.11.5"
  }
 },
 "nbformat": 4,
 "nbformat_minor": 5
}
